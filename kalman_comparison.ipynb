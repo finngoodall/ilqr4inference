{
 "cells": [
  {
   "cell_type": "code",
   "execution_count": 2,
   "metadata": {},
   "outputs": [
    {
     "ename": "OSError",
     "evalue": "'style.mplstyle' is not a valid package style, path of style file, URL of style file, or library style name (library styles are listed in `style.available`)",
     "output_type": "error",
     "traceback": [
      "\u001b[0;31m---------------------------------------------------------------------------\u001b[0m",
      "\u001b[0;31mFileNotFoundError\u001b[0m                         Traceback (most recent call last)",
      "File \u001b[0;32m~/Uni/IIB/Project/ilqr4inference/.venv/lib/python3.11/site-packages/matplotlib/style/core.py:166\u001b[0m, in \u001b[0;36muse\u001b[0;34m(style)\u001b[0m\n\u001b[1;32m    165\u001b[0m \u001b[39mtry\u001b[39;00m:\n\u001b[0;32m--> 166\u001b[0m     style \u001b[39m=\u001b[39m _rc_params_in_file(style)\n\u001b[1;32m    167\u001b[0m \u001b[39mexcept\u001b[39;00m \u001b[39mIOError\u001b[39;00m \u001b[39mas\u001b[39;00m err:\n",
      "File \u001b[0;32m~/Uni/IIB/Project/ilqr4inference/.venv/lib/python3.11/site-packages/matplotlib/__init__.py:850\u001b[0m, in \u001b[0;36m_rc_params_in_file\u001b[0;34m(fname, transform, fail_on_error)\u001b[0m\n\u001b[1;32m    849\u001b[0m rc_temp \u001b[39m=\u001b[39m {}\n\u001b[0;32m--> 850\u001b[0m \u001b[39mwith\u001b[39;49;00m _open_file_or_url(fname) \u001b[39mas\u001b[39;49;00m fd:\n\u001b[1;32m    851\u001b[0m     \u001b[39mtry\u001b[39;49;00m:\n",
      "File \u001b[0;32m/usr/lib/python3.11/contextlib.py:137\u001b[0m, in \u001b[0;36m_GeneratorContextManager.__enter__\u001b[0;34m(self)\u001b[0m\n\u001b[1;32m    136\u001b[0m \u001b[39mtry\u001b[39;00m:\n\u001b[0;32m--> 137\u001b[0m     \u001b[39mreturn\u001b[39;00m \u001b[39mnext\u001b[39m(\u001b[39mself\u001b[39m\u001b[39m.\u001b[39mgen)\n\u001b[1;32m    138\u001b[0m \u001b[39mexcept\u001b[39;00m \u001b[39mStopIteration\u001b[39;00m:\n",
      "File \u001b[0;32m~/Uni/IIB/Project/ilqr4inference/.venv/lib/python3.11/site-packages/matplotlib/__init__.py:827\u001b[0m, in \u001b[0;36m_open_file_or_url\u001b[0;34m(fname)\u001b[0m\n\u001b[1;32m    826\u001b[0m fname \u001b[39m=\u001b[39m os\u001b[39m.\u001b[39mpath\u001b[39m.\u001b[39mexpanduser(fname)\n\u001b[0;32m--> 827\u001b[0m \u001b[39mwith\u001b[39;00m \u001b[39mopen\u001b[39m(fname, encoding\u001b[39m=\u001b[39m\u001b[39m'\u001b[39m\u001b[39mutf-8\u001b[39m\u001b[39m'\u001b[39m) \u001b[39mas\u001b[39;00m f:\n\u001b[1;32m    828\u001b[0m     \u001b[39myield\u001b[39;00m f\n",
      "\u001b[0;31mFileNotFoundError\u001b[0m: [Errno 2] No such file or directory: 'style.mplstyle'",
      "\nThe above exception was the direct cause of the following exception:\n",
      "\u001b[0;31mOSError\u001b[0m                                   Traceback (most recent call last)",
      "\u001b[1;32m/home/finn/Uni/IIB/Project/ilqr4inference/kalman_comparison.ipynb Cell 1\u001b[0m line \u001b[0;36m1\n\u001b[1;32m      <a href='vscode-notebook-cell:/home/finn/Uni/IIB/Project/ilqr4inference/kalman_comparison.ipynb#X25sZmlsZQ%3D%3D?line=7'>8</a>\u001b[0m \u001b[39mfrom\u001b[39;00m \u001b[39milqr4i\u001b[39;00m\u001b[39m.\u001b[39;00m\u001b[39mmodels\u001b[39;00m\u001b[39m.\u001b[39;00m\u001b[39mmeasurements\u001b[39;00m\u001b[39m.\u001b[39;00m\u001b[39mgaussian\u001b[39;00m \u001b[39mimport\u001b[39;00m LinearGaussianMeasurement\n\u001b[1;32m      <a href='vscode-notebook-cell:/home/finn/Uni/IIB/Project/ilqr4inference/kalman_comparison.ipynb#X25sZmlsZQ%3D%3D?line=8'>9</a>\u001b[0m \u001b[39mfrom\u001b[39;00m \u001b[39milqr4i\u001b[39;00m\u001b[39m.\u001b[39;00m\u001b[39mmodels\u001b[39;00m\u001b[39m.\u001b[39;00m\u001b[39mpriors\u001b[39;00m\u001b[39m.\u001b[39;00m\u001b[39mgaussian\u001b[39;00m \u001b[39mimport\u001b[39;00m GaussianPrior\n\u001b[0;32m---> <a href='vscode-notebook-cell:/home/finn/Uni/IIB/Project/ilqr4inference/kalman_comparison.ipynb#X25sZmlsZQ%3D%3D?line=9'>10</a>\u001b[0m \u001b[39mfrom\u001b[39;00m \u001b[39milqr4i\u001b[39;00m\u001b[39m.\u001b[39;00m\u001b[39mplotters\u001b[39;00m \u001b[39mimport\u001b[39;00m \u001b[39m*\u001b[39m\n",
      "File \u001b[0;32m~/Uni/IIB/Project/ilqr4inference/ilqr4i/plotters.py:11\u001b[0m\n\u001b[1;32m      8\u001b[0m \u001b[39mfrom\u001b[39;00m \u001b[39m.\u001b[39;00m\u001b[39mbase\u001b[39;00m \u001b[39mimport\u001b[39;00m Gaussian\n\u001b[1;32m      9\u001b[0m \u001b[39mfrom\u001b[39;00m \u001b[39m.\u001b[39;00m\u001b[39mmodels\u001b[39;00m\u001b[39m.\u001b[39;00m\u001b[39mmeasurements\u001b[39;00m \u001b[39mimport\u001b[39;00m MeasurementModel\n\u001b[0;32m---> 11\u001b[0m plt\u001b[39m.\u001b[39;49mstyle\u001b[39m.\u001b[39;49muse([\u001b[39m\"\u001b[39;49m\u001b[39mstyle.mplstyle\u001b[39;49m\u001b[39m\"\u001b[39;49m])\n\u001b[1;32m     13\u001b[0m \u001b[39m# Paul Tor - \"vibrant\" (colour-blind friendly)\u001b[39;00m\n\u001b[1;32m     14\u001b[0m \u001b[39m# https://personal.sron.nl/~pault/\u001b[39;00m\n\u001b[1;32m     15\u001b[0m colour_map \u001b[39m=\u001b[39m {\n\u001b[1;32m     16\u001b[0m     \u001b[39m\"\u001b[39m\u001b[39morange\u001b[39m\u001b[39m\"\u001b[39m : \u001b[39m\"\u001b[39m\u001b[39m#EE7733\u001b[39m\u001b[39m\"\u001b[39m,\n\u001b[1;32m     17\u001b[0m     \u001b[39m\"\u001b[39m\u001b[39mblue\u001b[39m\u001b[39m\"\u001b[39m : \u001b[39m\"\u001b[39m\u001b[39m#0077BB\u001b[39m\u001b[39m\"\u001b[39m,\n\u001b[0;32m   (...)\u001b[0m\n\u001b[1;32m     22\u001b[0m     \u001b[39m\"\u001b[39m\u001b[39mgrey\u001b[39m\u001b[39m\"\u001b[39m : \u001b[39m\"\u001b[39m\u001b[39m#BBBBBB\u001b[39m\u001b[39m\"\u001b[39m\n\u001b[1;32m     23\u001b[0m }\n",
      "File \u001b[0;32m~/Uni/IIB/Project/ilqr4inference/.venv/lib/python3.11/site-packages/matplotlib/style/core.py:168\u001b[0m, in \u001b[0;36muse\u001b[0;34m(style)\u001b[0m\n\u001b[1;32m    166\u001b[0m         style \u001b[39m=\u001b[39m _rc_params_in_file(style)\n\u001b[1;32m    167\u001b[0m     \u001b[39mexcept\u001b[39;00m \u001b[39mIOError\u001b[39;00m \u001b[39mas\u001b[39;00m err:\n\u001b[0;32m--> 168\u001b[0m         \u001b[39mraise\u001b[39;00m \u001b[39mIOError\u001b[39;00m(\n\u001b[1;32m    169\u001b[0m             \u001b[39mf\u001b[39m\u001b[39m\"\u001b[39m\u001b[39m{\u001b[39;00mstyle\u001b[39m!r}\u001b[39;00m\u001b[39m is not a valid package style, path of style \u001b[39m\u001b[39m\"\u001b[39m\n\u001b[1;32m    170\u001b[0m             \u001b[39mf\u001b[39m\u001b[39m\"\u001b[39m\u001b[39mfile, URL of style file, or library style name (library \u001b[39m\u001b[39m\"\u001b[39m\n\u001b[1;32m    171\u001b[0m             \u001b[39mf\u001b[39m\u001b[39m\"\u001b[39m\u001b[39mstyles are listed in `style.available`)\u001b[39m\u001b[39m\"\u001b[39m) \u001b[39mfrom\u001b[39;00m \u001b[39merr\u001b[39;00m\n\u001b[1;32m    172\u001b[0m filtered \u001b[39m=\u001b[39m {}\n\u001b[1;32m    173\u001b[0m \u001b[39mfor\u001b[39;00m k \u001b[39min\u001b[39;00m style:  \u001b[39m# don't trigger RcParams.__getitem__('backend')\u001b[39;00m\n",
      "\u001b[0;31mOSError\u001b[0m: 'style.mplstyle' is not a valid package style, path of style file, URL of style file, or library style name (library styles are listed in `style.available`)"
     ]
    }
   ],
   "source": [
    "import autograd.numpy as np\n",
    "import matplotlib.pyplot as plt\n",
    "\n",
    "from ilqr4i.functions import sample_trajectory\n",
    "from ilqr4i.algorithms.kalman import KalmanSmoother\n",
    "from ilqr4i.algorithms.lqr import iLQR\n",
    "from ilqr4i.models.dynamics.linear import LinearDynamics\n",
    "from ilqr4i.models.measurements.gaussian import LinearGaussianMeasurement\n",
    "from ilqr4i.models.priors.gaussian import GaussianPrior\n",
    "from ilqr4i.plotters import *\n",
    "\n",
    "plt.style.use([\"style.mplstyle\"])"
   ]
  },
  {
   "attachments": {},
   "cell_type": "markdown",
   "metadata": {},
   "source": [
    "## General Parameters"
   ]
  },
  {
   "cell_type": "code",
   "execution_count": null,
   "metadata": {},
   "outputs": [
    {
     "ename": "",
     "evalue": "",
     "output_type": "error",
     "traceback": [
      "\u001b[1;31mRunning cells with '/bin/python3' requires the ipykernel package.\n",
      "\u001b[1;31mRun the following command to install 'ipykernel' into the Python environment. \n",
      "\u001b[1;31mCommand: '/bin/python3 -m pip install ipykernel -U --user --force-reinstall'"
     ]
    }
   ],
   "source": [
    "num_steps = 100\n",
    "\n",
    "Nx = 1\n",
    "Nu = 1\n",
    "Ny = 1"
   ]
  },
  {
   "attachments": {},
   "cell_type": "markdown",
   "metadata": {},
   "source": [
    "## Create the Generative Model\n",
    "### Dynamics"
   ]
  },
  {
   "cell_type": "code",
   "execution_count": null,
   "metadata": {},
   "outputs": [
    {
     "ename": "",
     "evalue": "",
     "output_type": "error",
     "traceback": [
      "\u001b[1;31mRunning cells with '/bin/python3' requires the ipykernel package.\n",
      "\u001b[1;31mRun the following command to install 'ipykernel' into the Python environment. \n",
      "\u001b[1;31mCommand: '/bin/python3 -m pip install ipykernel -U --user --force-reinstall'"
     ]
    }
   ],
   "source": [
    "A = np.random.uniform(0.8, 1.0, size=(Nx, Nx))\n",
    "B = np.random.uniform(-1.0, 1.0, size=(Nx, Nu))\n",
    "dynamics = LinearDynamics(Nx, Nu, A, B)"
   ]
  },
  {
   "attachments": {},
   "cell_type": "markdown",
   "metadata": {},
   "source": [
    "### Measurements"
   ]
  },
  {
   "cell_type": "code",
   "execution_count": null,
   "metadata": {},
   "outputs": [
    {
     "ename": "",
     "evalue": "",
     "output_type": "error",
     "traceback": [
      "\u001b[1;31mRunning cells with '/bin/python3' requires the ipykernel package.\n",
      "\u001b[1;31mRun the following command to install 'ipykernel' into the Python environment. \n",
      "\u001b[1;31mCommand: '/bin/python3 -m pip install ipykernel -U --user --force-reinstall'"
     ]
    }
   ],
   "source": [
    "C = np.random.uniform(-2.0, 2.0, size=(Ny, Nx))\n",
    "y_cov = 0.5*np.eye(Ny)\n",
    "meas_model = LinearGaussianMeasurement(Ny, y_cov, C)"
   ]
  },
  {
   "attachments": {},
   "cell_type": "markdown",
   "metadata": {},
   "source": [
    "### Priors"
   ]
  },
  {
   "cell_type": "code",
   "execution_count": null,
   "metadata": {},
   "outputs": [
    {
     "ename": "",
     "evalue": "",
     "output_type": "error",
     "traceback": [
      "\u001b[1;31mRunning cells with '/bin/python3' requires the ipykernel package.\n",
      "\u001b[1;31mRun the following command to install 'ipykernel' into the Python environment. \n",
      "\u001b[1;31mCommand: '/bin/python3 -m pip install ipykernel -U --user --force-reinstall'"
     ]
    }
   ],
   "source": [
    "x0_prior = GaussianPrior(Nx, np.zeros(Nx), 2*np.eye(Nx))\n",
    "u_prior = GaussianPrior(Nu, np.zeros(Nu), 0.5*np.eye(Nu))"
   ]
  },
  {
   "attachments": {},
   "cell_type": "markdown",
   "metadata": {},
   "source": [
    "## Sample a Trajectory"
   ]
  },
  {
   "cell_type": "code",
   "execution_count": null,
   "metadata": {},
   "outputs": [
    {
     "ename": "",
     "evalue": "",
     "output_type": "error",
     "traceback": [
      "\u001b[1;31mRunning cells with '/bin/python3' requires the ipykernel package.\n",
      "\u001b[1;31mRun the following command to install 'ipykernel' into the Python environment. \n",
      "\u001b[1;31mCommand: '/bin/python3 -m pip install ipykernel -U --user --force-reinstall'"
     ]
    }
   ],
   "source": [
    "true_xs, true_us, ys = sample_trajectory(\n",
    "    dynamics,\n",
    "    meas_model,\n",
    "    u_prior,\n",
    "    x0_prior,\n",
    "    num_steps\n",
    ")"
   ]
  },
  {
   "attachments": {},
   "cell_type": "markdown",
   "metadata": {},
   "source": [
    "## Run Inference Methods"
   ]
  },
  {
   "cell_type": "code",
   "execution_count": null,
   "metadata": {},
   "outputs": [
    {
     "ename": "",
     "evalue": "",
     "output_type": "error",
     "traceback": [
      "\u001b[1;31mRunning cells with '/bin/python3' requires the ipykernel package.\n",
      "\u001b[1;31mRun the following command to install 'ipykernel' into the Python environment. \n",
      "\u001b[1;31mCommand: '/bin/python3 -m pip install ipykernel -U --user --force-reinstall'"
     ]
    }
   ],
   "source": [
    "ilqr = iLQR(\n",
    "    dynamics,\n",
    "    meas_model,\n",
    "    u_prior,\n",
    "    x0_prior\n",
    ")\n",
    "\n",
    "us_init = [u_prior.sample(t) for t in range(num_steps)]\n",
    "\n",
    "ilqr_xs, ilqr_us = ilqr(ys, us_init)"
   ]
  },
  {
   "cell_type": "code",
   "execution_count": null,
   "metadata": {},
   "outputs": [
    {
     "ename": "",
     "evalue": "",
     "output_type": "error",
     "traceback": [
      "\u001b[1;31mRunning cells with '/bin/python3' requires the ipykernel package.\n",
      "\u001b[1;31mRun the following command to install 'ipykernel' into the Python environment. \n",
      "\u001b[1;31mCommand: '/bin/python3 -m pip install ipykernel -U --user --force-reinstall'"
     ]
    }
   ],
   "source": [
    "kalman_smoother = KalmanSmoother(\n",
    "    dynamics,\n",
    "    meas_model,\n",
    "    u_prior,\n",
    "    x0_prior\n",
    ")\n",
    "\n",
    "kalman_xs, kalman_us = kalman_smoother(ys)"
   ]
  },
  {
   "attachments": {},
   "cell_type": "markdown",
   "metadata": {},
   "source": [
    "## Plot the Results"
   ]
  },
  {
   "cell_type": "code",
   "execution_count": null,
   "metadata": {},
   "outputs": [
    {
     "ename": "",
     "evalue": "",
     "output_type": "error",
     "traceback": [
      "\u001b[1;31mRunning cells with '/bin/python3' requires the ipykernel package.\n",
      "\u001b[1;31mRun the following command to install 'ipykernel' into the Python environment. \n",
      "\u001b[1;31mCommand: '/bin/python3 -m pip install ipykernel -U --user --force-reinstall'"
     ]
    }
   ],
   "source": [
    "fig, ax = plt.subplots(Nx, 1, figsize=(6, 0.5+Nx))\n",
    "\n",
    "plot_groundtruths([ax], true_xs)\n",
    "plot_gaussians([ax], ilqr_xs, \"b\", label=\"ilqr\")\n",
    "plot_gaussians([ax], kalman_xs, \"r\", label=\"kalman\")\n",
    "plt.show()"
   ]
  },
  {
   "cell_type": "code",
   "execution_count": null,
   "metadata": {},
   "outputs": [
    {
     "ename": "",
     "evalue": "",
     "output_type": "error",
     "traceback": [
      "\u001b[1;31mRunning cells with '/bin/python3' requires the ipykernel package.\n",
      "\u001b[1;31mRun the following command to install 'ipykernel' into the Python environment. \n",
      "\u001b[1;31mCommand: '/bin/python3 -m pip install ipykernel -U --user --force-reinstall'"
     ]
    }
   ],
   "source": [
    "fig, ax = plt.subplots(Nu, 1, figsize=(6, 0.5+Nu))\n",
    "\n",
    "plot_groundtruths([ax], true_us)\n",
    "plot_gaussians([ax], ilqr_us, \"b\", label=\"ilqr\")\n",
    "plot_gaussians([ax], kalman_us, \"r\", label=\"kalman\")\n",
    "plt.show()"
   ]
  },
  {
   "cell_type": "code",
   "execution_count": null,
   "metadata": {},
   "outputs": [
    {
     "ename": "",
     "evalue": "",
     "output_type": "error",
     "traceback": [
      "\u001b[1;31mRunning cells with '/bin/python3' requires the ipykernel package.\n",
      "\u001b[1;31mRun the following command to install 'ipykernel' into the Python environment. \n",
      "\u001b[1;31mCommand: '/bin/python3 -m pip install ipykernel -U --user --force-reinstall'"
     ]
    }
   ],
   "source": [
    "fig, ax = plt.subplots(Ny, 1, figsize=(6, 0.5+Ny))\n",
    "\n",
    "plot_groundtruths([ax], ys, markers=True)\n",
    "plot_measurements([ax], meas_model, ilqr_xs, \"b\", label=\"ilqr\")\n",
    "plot_measurements([ax], meas_model, kalman_xs, \"r\", label=\"kalman\")\n",
    "plt.show()"
   ]
  }
 ],
 "metadata": {
  "kernelspec": {
   "display_name": "Python 3",
   "language": "python",
   "name": "python3"
  },
  "language_info": {
   "codemirror_mode": {
    "name": "ipython",
    "version": 3
   },
   "file_extension": ".py",
   "mimetype": "text/x-python",
   "name": "python",
   "nbconvert_exporter": "python",
   "pygments_lexer": "ipython3",
   "version": "3.11.4"
  },
  "orig_nbformat": 4
 },
 "nbformat": 4,
 "nbformat_minor": 2
}
